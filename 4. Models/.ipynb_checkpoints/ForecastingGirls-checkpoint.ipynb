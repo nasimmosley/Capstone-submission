{
  "nbformat": 4,
  "nbformat_minor": 5,
  "metadata": {
    "kernelspec": {
      "display_name": "Python 3",
      "language": "python",
      "name": "python3"
    },
    "language_info": {
      "codemirror_mode": {
        "name": "ipython",
        "version": 3
      },
      "file_extension": ".py",
      "mimetype": "text/x-python",
      "name": "python",
      "nbconvert_exporter": "python",
      "pygments_lexer": "ipython3",
      "version": "3.8.8"
    },
    "colab": {
      "name": "ForecastingGirls.ipynb",
      "provenance": []
    }
  },
  "cells": [
    {
      "cell_type": "markdown",
      "metadata": {
        "id": "b0a4140c-2717-44e5-be52-97741700fa55"
      },
      "source": [
        "### Forecasting all popular girls names"
      ],
      "id": "b0a4140c-2717-44e5-be52-97741700fa55"
    },
    {
      "cell_type": "code",
      "metadata": {
        "colab": {
          "base_uri": "https://localhost:8080/"
        },
        "id": "eKzAwflwFVWz",
        "outputId": "52ddf0be-ac1e-4fe0-d09e-f6c7ada9691a"
      },
      "source": [
        "#%pip install pmdarima"
      ],
      "id": "eKzAwflwFVWz",
      "execution_count": 1,
      "outputs": [
        {
          "output_type": "stream",
          "name": "stdout",
          "text": [
            "Collecting pmdarima\n",
            "  Downloading pmdarima-1.8.4-cp37-cp37m-manylinux_2_17_x86_64.manylinux2014_x86_64.manylinux_2_24_x86_64.whl (1.4 MB)\n",
            "\u001b[K     |████████████████████████████████| 1.4 MB 4.4 MB/s \n",
            "\u001b[?25hCollecting statsmodels!=0.12.0,>=0.11\n",
            "  Downloading statsmodels-0.13.1-cp37-cp37m-manylinux_2_17_x86_64.manylinux2014_x86_64.whl (9.8 MB)\n",
            "\u001b[K     |████████████████████████████████| 9.8 MB 22.8 MB/s \n",
            "\u001b[?25hRequirement already satisfied: numpy>=1.19.3 in /usr/local/lib/python3.7/dist-packages (from pmdarima) (1.19.5)\n",
            "Requirement already satisfied: setuptools!=50.0.0,>=38.6.0 in /usr/local/lib/python3.7/dist-packages (from pmdarima) (57.4.0)\n",
            "Requirement already satisfied: urllib3 in /usr/local/lib/python3.7/dist-packages (from pmdarima) (1.24.3)\n",
            "Requirement already satisfied: scikit-learn>=0.22 in /usr/local/lib/python3.7/dist-packages (from pmdarima) (1.0.1)\n",
            "Requirement already satisfied: pandas>=0.19 in /usr/local/lib/python3.7/dist-packages (from pmdarima) (1.1.5)\n",
            "Requirement already satisfied: joblib>=0.11 in /usr/local/lib/python3.7/dist-packages (from pmdarima) (1.1.0)\n",
            "Requirement already satisfied: Cython!=0.29.18,>=0.29 in /usr/local/lib/python3.7/dist-packages (from pmdarima) (0.29.24)\n",
            "Requirement already satisfied: scipy>=1.3.2 in /usr/local/lib/python3.7/dist-packages (from pmdarima) (1.4.1)\n",
            "Requirement already satisfied: python-dateutil>=2.7.3 in /usr/local/lib/python3.7/dist-packages (from pandas>=0.19->pmdarima) (2.8.2)\n",
            "Requirement already satisfied: pytz>=2017.2 in /usr/local/lib/python3.7/dist-packages (from pandas>=0.19->pmdarima) (2018.9)\n",
            "Requirement already satisfied: six>=1.5 in /usr/local/lib/python3.7/dist-packages (from python-dateutil>=2.7.3->pandas>=0.19->pmdarima) (1.15.0)\n",
            "Requirement already satisfied: threadpoolctl>=2.0.0 in /usr/local/lib/python3.7/dist-packages (from scikit-learn>=0.22->pmdarima) (3.0.0)\n",
            "Requirement already satisfied: patsy>=0.5.2 in /usr/local/lib/python3.7/dist-packages (from statsmodels!=0.12.0,>=0.11->pmdarima) (0.5.2)\n",
            "Installing collected packages: statsmodels, pmdarima\n",
            "  Attempting uninstall: statsmodels\n",
            "    Found existing installation: statsmodels 0.10.2\n",
            "    Uninstalling statsmodels-0.10.2:\n",
            "      Successfully uninstalled statsmodels-0.10.2\n",
            "Successfully installed pmdarima-1.8.4 statsmodels-0.13.1\n"
          ]
        }
      ]
    },
    {
      "cell_type": "code",
      "metadata": {
        "id": "6d6ab055-2830-4b65-bc28-bfd37888cf67"
      },
      "source": [
        "import pandas as pd\n",
        "import numpy as np\n",
        "import statsmodels\n",
        "import pmdarima as pmd\n",
        "import matplotlib.pyplot as plt\n",
        "from sklearn.linear_model import LinearRegression\n",
        "from sklearn.model_selection import train_test_split\n",
        "import statsmodels.api as sm\n",
        "from statsmodels.graphics.tsaplots import plot_acf, plot_pacf\n",
        "from statsmodels.tsa.stattools import acf, pacf\n",
        "from sklearn.metrics import mean_absolute_error, mean_squared_error\n",
        "from datetime import datetime\n",
        "from statsmodels.tsa.api import SimpleExpSmoothing, ExponentialSmoothing\n",
        "from sklearn.preprocessing import MinMaxScaler, StandardScaler\n",
        "from keras.preprocessing.sequence import TimeseriesGenerator\n",
        "from keras.models import Sequential\n",
        "from keras.layers import Dense\n",
        "from keras.layers import LSTM, SimpleRNN, LSTM, GRU, Dense\n",
        "import datetime"
      ],
      "id": "6d6ab055-2830-4b65-bc28-bfd37888cf67",
      "execution_count": 2,
      "outputs": []
    },
    {
      "cell_type": "code",
      "metadata": {
        "colab": {
          "base_uri": "https://localhost:8080/"
        },
        "id": "z5yK9bsLF8xA",
        "outputId": "4b77954c-7c25-4820-c98b-a42ed4fb80c2"
      },
      "source": [
        "from google.colab import drive\n",
        "drive.mount('/content/drive')"
      ],
      "id": "z5yK9bsLF8xA",
      "execution_count": 4,
      "outputs": [
        {
          "output_type": "stream",
          "name": "stdout",
          "text": [
            "Mounted at /content/drive\n"
          ]
        }
      ]
    },
    {
      "cell_type": "code",
      "metadata": {
        "id": "a8f4e288-1949-4936-97f7-944d62b064a9"
      },
      "source": [
        "female_pop=pd.read_csv('/content/drive/MyDrive/Data/popular_females.csv', parse_dates =['year'], index_col=\"year\")\n",
        "female_names = pd.read_csv(\"/content/drive/MyDrive/Data/female_names.csv\",  parse_dates =['year'], index_col=\"year\")\n",
        "names_100_years = pd.read_csv(\"/content/drive/MyDrive/Data/females_100count_10years_1920.csv\", parse_dates =['year'], index_col=\"year\")"
      ],
      "id": "a8f4e288-1949-4936-97f7-944d62b064a9",
      "execution_count": 5,
      "outputs": []
    },
    {
      "cell_type": "markdown",
      "metadata": {
        "id": "b2016261-ec19-49ab-b8dc-b7ed88b43786"
      },
      "source": [
        "### Pull all popular girl names in a list/size it"
      ],
      "id": "b2016261-ec19-49ab-b8dc-b7ed88b43786"
    },
    {
      "cell_type": "markdown",
      "metadata": {
        "id": "wB9j-Z3xMceI"
      },
      "source": [
        ""
      ],
      "id": "wB9j-Z3xMceI"
    },
    {
      "cell_type": "code",
      "metadata": {
        "id": "001ce19e-1d5a-4377-92bb-43e3bcfc835c"
      },
      "source": [
        "females_name_list = female_pop[\"name\"].unique().tolist()"
      ],
      "id": "001ce19e-1d5a-4377-92bb-43e3bcfc835c",
      "execution_count": 9,
      "outputs": []
    },
    {
      "cell_type": "code",
      "metadata": {
        "colab": {
          "base_uri": "https://localhost:8080/"
        },
        "id": "ffe6c393-56e7-4c9b-a99e-f44bcf1df0cc",
        "outputId": "af271a9b-b969-4174-ab7d-b2f6fd036903"
      },
      "source": [
        "len(females_name_list)"
      ],
      "id": "ffe6c393-56e7-4c9b-a99e-f44bcf1df0cc",
      "execution_count": 10,
      "outputs": [
        {
          "output_type": "execute_result",
          "data": {
            "text/plain": [
              "1058"
            ]
          },
          "metadata": {},
          "execution_count": 10
        }
      ]
    },
    {
      "cell_type": "markdown",
      "metadata": {
        "id": "de6c6ea7-b10f-4167-99a5-8a00ce0cb536"
      },
      "source": [
        "### RUN ARIMA and PREDICTION MODEL ON FULL DATASET (1880-2020)\n",
        "and Predict for names out to 2036 (So for 15 years)"
      ],
      "id": "de6c6ea7-b10f-4167-99a5-8a00ce0cb536"
    },
    {
      "cell_type": "code",
      "metadata": {
        "id": "2c9cc241-8cf3-43cc-848a-fad9e41fe697"
      },
      "source": [
        "\n",
        "def name_prediction(names, df, sex):\n",
        "    one_big_list =[]\n",
        "    for name in names:\n",
        "        \n",
        "    \n",
        "        Z = df[df[\"name\"]==name]\n",
        "\n",
        "        train = Z[['count']]\n",
        "        index = pd.date_range(start=\"01/01/2021\", end=\"01/01/2037\", freq=\"y\")\n",
        "        test=pd.DataFrame(index=index)\n",
        "        model = pmd.auto_arima(train[\"count\"], error_action='ignore')\n",
        "        prediction = model.predict(len(test))\n",
        "        test[\"count\"] = np.where(prediction>0, prediction, 0)\n",
        "        test[\"name\"] = name\n",
        "        test[\"sex\"] = sex\n",
        "        final_data = Z.append(test, ignore_index=False)\n",
        "        one_big_list.append(final_data)\n",
        "    return pd.concat(one_big_list, axis=0)"
      ],
      "id": "2c9cc241-8cf3-43cc-848a-fad9e41fe697",
      "execution_count": 11,
      "outputs": []
    },
    {
      "cell_type": "code",
      "metadata": {
        "id": "37dc0348-5fab-4646-9401-6286fcda30e4"
      },
      "source": [
        "final_data_females = name_prediction(females_name_list, female_names, \"F\")"
      ],
      "id": "37dc0348-5fab-4646-9401-6286fcda30e4",
      "execution_count": 12,
      "outputs": []
    },
    {
      "cell_type": "code",
      "metadata": {
        "id": "yUIi1XBamkh0"
      },
      "source": [
        "final_data_females.drop(columns=[\"rank\"], inplace=True)"
      ],
      "id": "yUIi1XBamkh0",
      "execution_count": 13,
      "outputs": []
    },
    {
      "cell_type": "code",
      "metadata": {
        "id": "c0989e33-055c-4a16-ad12-5438097100f2"
      },
      "source": [
        "final_data_females.to_csv('/content/drive/MyDrive/Data/final_data_females.csv')"
      ],
      "id": "c0989e33-055c-4a16-ad12-5438097100f2",
      "execution_count": 14,
      "outputs": []
    },
    {
      "cell_type": "code",
      "metadata": {
        "colab": {
          "base_uri": "https://localhost:8080/",
          "height": 206
        },
        "id": "2i5zrpfImyZe",
        "outputId": "4e4dee0a-2bc0-4ddd-96c9-1fc55e14c620"
      },
      "source": [
        "final_data_females.head()"
      ],
      "id": "2i5zrpfImyZe",
      "execution_count": 15,
      "outputs": [
        {
          "output_type": "execute_result",
          "data": {
            "text/html": [
              "<div>\n",
              "<style scoped>\n",
              "    .dataframe tbody tr th:only-of-type {\n",
              "        vertical-align: middle;\n",
              "    }\n",
              "\n",
              "    .dataframe tbody tr th {\n",
              "        vertical-align: top;\n",
              "    }\n",
              "\n",
              "    .dataframe thead th {\n",
              "        text-align: right;\n",
              "    }\n",
              "</style>\n",
              "<table border=\"1\" class=\"dataframe\">\n",
              "  <thead>\n",
              "    <tr style=\"text-align: right;\">\n",
              "      <th></th>\n",
              "      <th>name</th>\n",
              "      <th>sex</th>\n",
              "      <th>count</th>\n",
              "    </tr>\n",
              "  </thead>\n",
              "  <tbody>\n",
              "    <tr>\n",
              "      <th>1880-01-01</th>\n",
              "      <td>Amelia</td>\n",
              "      <td>F</td>\n",
              "      <td>221.0</td>\n",
              "    </tr>\n",
              "    <tr>\n",
              "      <th>1881-01-01</th>\n",
              "      <td>Amelia</td>\n",
              "      <td>F</td>\n",
              "      <td>235.0</td>\n",
              "    </tr>\n",
              "    <tr>\n",
              "      <th>1882-01-01</th>\n",
              "      <td>Amelia</td>\n",
              "      <td>F</td>\n",
              "      <td>252.0</td>\n",
              "    </tr>\n",
              "    <tr>\n",
              "      <th>1883-01-01</th>\n",
              "      <td>Amelia</td>\n",
              "      <td>F</td>\n",
              "      <td>262.0</td>\n",
              "    </tr>\n",
              "    <tr>\n",
              "      <th>1884-01-01</th>\n",
              "      <td>Amelia</td>\n",
              "      <td>F</td>\n",
              "      <td>315.0</td>\n",
              "    </tr>\n",
              "  </tbody>\n",
              "</table>\n",
              "</div>"
            ],
            "text/plain": [
              "              name sex  count\n",
              "1880-01-01  Amelia   F  221.0\n",
              "1881-01-01  Amelia   F  235.0\n",
              "1882-01-01  Amelia   F  252.0\n",
              "1883-01-01  Amelia   F  262.0\n",
              "1884-01-01  Amelia   F  315.0"
            ]
          },
          "metadata": {},
          "execution_count": 15
        }
      ]
    },
    {
      "cell_type": "code",
      "metadata": {
        "colab": {
          "base_uri": "https://localhost:8080/"
        },
        "id": "0eOkbnNanNNn",
        "outputId": "51da396b-3313-4114-a396-0beb99c26096"
      },
      "source": [
        "final_data_females.info()"
      ],
      "id": "0eOkbnNanNNn",
      "execution_count": 16,
      "outputs": [
        {
          "output_type": "stream",
          "name": "stdout",
          "text": [
            "<class 'pandas.core.frame.DataFrame'>\n",
            "DatetimeIndex: 121607 entries, 1880-01-01 to 2036-12-31\n",
            "Data columns (total 3 columns):\n",
            " #   Column  Non-Null Count   Dtype  \n",
            "---  ------  --------------   -----  \n",
            " 0   name    121607 non-null  object \n",
            " 1   sex     121607 non-null  object \n",
            " 2   count   121607 non-null  float64\n",
            "dtypes: float64(1), object(2)\n",
            "memory usage: 3.7+ MB\n"
          ]
        }
      ]
    },
    {
      "cell_type": "code",
      "metadata": {
        "id": "PsvykLzhxq1-"
      },
      "source": [
        "import pickle"
      ],
      "id": "PsvykLzhxq1-",
      "execution_count": 17,
      "outputs": []
    },
    {
      "cell_type": "code",
      "metadata": {
        "id": "sdtWesEcyW8e"
      },
      "source": [
        "final_data_females.to_pickle('/content/drive/MyDrive/Data/final_data_females.pkl')"
      ],
      "id": "sdtWesEcyW8e",
      "execution_count": 18,
      "outputs": []
    },
    {
      "cell_type": "code",
      "metadata": {
        "id": "ipkj8B2xzXfy"
      },
      "source": [
        ""
      ],
      "id": "ipkj8B2xzXfy",
      "execution_count": null,
      "outputs": []
    }
  ]
}