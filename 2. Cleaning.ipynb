{
 "cells": [
  {
   "cell_type": "code",
   "execution_count": 12,
   "id": "adb4f7f7-6bf7-486e-800f-eeaf4320e621",
   "metadata": {},
   "outputs": [],
   "source": [
    "import pandas as pd\n",
    "import matplotlib.pyplot as plt\n",
    "import numpy as np\n",
    "pd.set_option(\"display.max_columns\",None)\n",
    "pd.set_option(\"display.max_rows\",None)\n",
    "import plotly.express as px\n",
    "pd.set_option('display.float_format', lambda x: '%.5f' % x)"
   ]
  },
  {
   "cell_type": "code",
   "execution_count": 2,
   "id": "3b25ec84-b0bf-4626-873e-b5ff6e3bef1a",
   "metadata": {},
   "outputs": [],
   "source": [
    "names = pd.read_csv('./Data/names_ranks_counts.csv')"
   ]
  },
  {
   "cell_type": "code",
   "execution_count": 3,
   "id": "0fa478fa-e1b0-4f12-9e53-1fb94bbdf2d4",
   "metadata": {},
   "outputs": [
    {
     "data": {
      "text/html": [
       "<div>\n",
       "<style scoped>\n",
       "    .dataframe tbody tr th:only-of-type {\n",
       "        vertical-align: middle;\n",
       "    }\n",
       "\n",
       "    .dataframe tbody tr th {\n",
       "        vertical-align: top;\n",
       "    }\n",
       "\n",
       "    .dataframe thead th {\n",
       "        text-align: right;\n",
       "    }\n",
       "</style>\n",
       "<table border=\"1\" class=\"dataframe\">\n",
       "  <thead>\n",
       "    <tr style=\"text-align: right;\">\n",
       "      <th></th>\n",
       "      <th>name</th>\n",
       "      <th>sex</th>\n",
       "      <th>year</th>\n",
       "      <th>rank</th>\n",
       "      <th>count</th>\n",
       "    </tr>\n",
       "  </thead>\n",
       "  <tbody>\n",
       "    <tr>\n",
       "      <th>0</th>\n",
       "      <td>John</td>\n",
       "      <td>M</td>\n",
       "      <td>1880</td>\n",
       "      <td>1.0</td>\n",
       "      <td>9655</td>\n",
       "    </tr>\n",
       "    <tr>\n",
       "      <th>1</th>\n",
       "      <td>Mary</td>\n",
       "      <td>F</td>\n",
       "      <td>1880</td>\n",
       "      <td>1.0</td>\n",
       "      <td>7065</td>\n",
       "    </tr>\n",
       "    <tr>\n",
       "      <th>2</th>\n",
       "      <td>John</td>\n",
       "      <td>M</td>\n",
       "      <td>1881</td>\n",
       "      <td>1.0</td>\n",
       "      <td>8769</td>\n",
       "    </tr>\n",
       "    <tr>\n",
       "      <th>3</th>\n",
       "      <td>Mary</td>\n",
       "      <td>F</td>\n",
       "      <td>1881</td>\n",
       "      <td>1.0</td>\n",
       "      <td>6919</td>\n",
       "    </tr>\n",
       "    <tr>\n",
       "      <th>4</th>\n",
       "      <td>John</td>\n",
       "      <td>M</td>\n",
       "      <td>1882</td>\n",
       "      <td>1.0</td>\n",
       "      <td>9557</td>\n",
       "    </tr>\n",
       "  </tbody>\n",
       "</table>\n",
       "</div>"
      ],
      "text/plain": [
       "   name sex  year  rank  count\n",
       "0  John   M  1880   1.0   9655\n",
       "1  Mary   F  1880   1.0   7065\n",
       "2  John   M  1881   1.0   8769\n",
       "3  Mary   F  1881   1.0   6919\n",
       "4  John   M  1882   1.0   9557"
      ]
     },
     "execution_count": 3,
     "metadata": {},
     "output_type": "execute_result"
    }
   ],
   "source": [
    "names.head()"
   ]
  },
  {
   "cell_type": "code",
   "execution_count": 4,
   "id": "01fb3e76-60e8-4a3f-b52d-1924de50f09c",
   "metadata": {},
   "outputs": [
    {
     "name": "stdout",
     "output_type": "stream",
     "text": [
      "<class 'pandas.core.frame.DataFrame'>\n",
      "RangeIndex: 2020863 entries, 0 to 2020862\n",
      "Data columns (total 5 columns):\n",
      " #   Column  Dtype  \n",
      "---  ------  -----  \n",
      " 0   name    object \n",
      " 1   sex     object \n",
      " 2   year    int64  \n",
      " 3   rank    float64\n",
      " 4   count   int64  \n",
      "dtypes: float64(1), int64(2), object(2)\n",
      "memory usage: 77.1+ MB\n"
     ]
    }
   ],
   "source": [
    "names.info()"
   ]
  },
  {
   "cell_type": "code",
   "execution_count": 5,
   "id": "1e70445d-3a1b-4bc5-8c9d-a3624f5eb370",
   "metadata": {},
   "outputs": [],
   "source": [
    "names['year'] = pd.to_datetime(names[\"year\"], format = '%Y')"
   ]
  },
  {
   "cell_type": "code",
   "execution_count": 6,
   "id": "43c402ad-b93c-440b-8476-619d02080649",
   "metadata": {},
   "outputs": [],
   "source": [
    "names.set_index(\"year\", inplace=True)\n",
    "names.sort_index(inplace=True)"
   ]
  },
  {
   "cell_type": "code",
   "execution_count": 7,
   "id": "b29009d1-c0bd-4e51-b4f9-1255f0df5951",
   "metadata": {},
   "outputs": [
    {
     "data": {
      "text/html": [
       "<div>\n",
       "<style scoped>\n",
       "    .dataframe tbody tr th:only-of-type {\n",
       "        vertical-align: middle;\n",
       "    }\n",
       "\n",
       "    .dataframe tbody tr th {\n",
       "        vertical-align: top;\n",
       "    }\n",
       "\n",
       "    .dataframe thead th {\n",
       "        text-align: right;\n",
       "    }\n",
       "</style>\n",
       "<table border=\"1\" class=\"dataframe\">\n",
       "  <thead>\n",
       "    <tr style=\"text-align: right;\">\n",
       "      <th></th>\n",
       "      <th>name</th>\n",
       "      <th>sex</th>\n",
       "      <th>rank</th>\n",
       "      <th>count</th>\n",
       "    </tr>\n",
       "    <tr>\n",
       "      <th>year</th>\n",
       "      <th></th>\n",
       "      <th></th>\n",
       "      <th></th>\n",
       "      <th></th>\n",
       "    </tr>\n",
       "  </thead>\n",
       "  <tbody>\n",
       "    <tr>\n",
       "      <th>1880-01-01</th>\n",
       "      <td>John</td>\n",
       "      <td>M</td>\n",
       "      <td>1.0</td>\n",
       "      <td>9655</td>\n",
       "    </tr>\n",
       "    <tr>\n",
       "      <th>1880-01-01</th>\n",
       "      <td>Delila</td>\n",
       "      <td>F</td>\n",
       "      <td>836.0</td>\n",
       "      <td>5</td>\n",
       "    </tr>\n",
       "    <tr>\n",
       "      <th>1880-01-01</th>\n",
       "      <td>Corrine</td>\n",
       "      <td>F</td>\n",
       "      <td>836.0</td>\n",
       "      <td>5</td>\n",
       "    </tr>\n",
       "    <tr>\n",
       "      <th>1880-01-01</th>\n",
       "      <td>Cordella</td>\n",
       "      <td>F</td>\n",
       "      <td>836.0</td>\n",
       "      <td>5</td>\n",
       "    </tr>\n",
       "    <tr>\n",
       "      <th>1880-01-01</th>\n",
       "      <td>Concepcion</td>\n",
       "      <td>F</td>\n",
       "      <td>836.0</td>\n",
       "      <td>5</td>\n",
       "    </tr>\n",
       "  </tbody>\n",
       "</table>\n",
       "</div>"
      ],
      "text/plain": [
       "                  name sex   rank  count\n",
       "year                                    \n",
       "1880-01-01        John   M    1.0   9655\n",
       "1880-01-01      Delila   F  836.0      5\n",
       "1880-01-01     Corrine   F  836.0      5\n",
       "1880-01-01    Cordella   F  836.0      5\n",
       "1880-01-01  Concepcion   F  836.0      5"
      ]
     },
     "execution_count": 7,
     "metadata": {},
     "output_type": "execute_result"
    }
   ],
   "source": [
    "names.head()"
   ]
  },
  {
   "cell_type": "code",
   "execution_count": 8,
   "id": "f9c71e92-fd29-4d67-8879-6076214335b6",
   "metadata": {},
   "outputs": [
    {
     "data": {
      "text/plain": [
       "(2020863, 4)"
      ]
     },
     "execution_count": 8,
     "metadata": {},
     "output_type": "execute_result"
    }
   ],
   "source": [
    "names.shape"
   ]
  },
  {
   "cell_type": "markdown",
   "id": "46599c73-d9ab-4407-9055-9dd7f39123f9",
   "metadata": {},
   "source": [
    "### Lots of \"little\" ones--infrequent occurring names pushing the 1st and 3rd quartile counts down"
   ]
  },
  {
   "cell_type": "code",
   "execution_count": 13,
   "id": "ffef0fae-12e5-47ea-9511-153cc2e4baf5",
   "metadata": {},
   "outputs": [
    {
     "data": {
      "text/html": [
       "<div>\n",
       "<style scoped>\n",
       "    .dataframe tbody tr th:only-of-type {\n",
       "        vertical-align: middle;\n",
       "    }\n",
       "\n",
       "    .dataframe tbody tr th {\n",
       "        vertical-align: top;\n",
       "    }\n",
       "\n",
       "    .dataframe thead th {\n",
       "        text-align: right;\n",
       "    }\n",
       "</style>\n",
       "<table border=\"1\" class=\"dataframe\">\n",
       "  <thead>\n",
       "    <tr style=\"text-align: right;\">\n",
       "      <th></th>\n",
       "      <th>rank</th>\n",
       "      <th>count</th>\n",
       "    </tr>\n",
       "  </thead>\n",
       "  <tbody>\n",
       "    <tr>\n",
       "      <th>count</th>\n",
       "      <td>2020863.00000</td>\n",
       "      <td>2020863.00000</td>\n",
       "    </tr>\n",
       "    <tr>\n",
       "      <th>mean</th>\n",
       "      <td>5258.44697</td>\n",
       "      <td>177.38991</td>\n",
       "    </tr>\n",
       "    <tr>\n",
       "      <th>std</th>\n",
       "      <td>4220.12931</td>\n",
       "      <td>1502.47071</td>\n",
       "    </tr>\n",
       "    <tr>\n",
       "      <th>min</th>\n",
       "      <td>1.00000</td>\n",
       "      <td>5.00000</td>\n",
       "    </tr>\n",
       "    <tr>\n",
       "      <th>25%</th>\n",
       "      <td>1865.00000</td>\n",
       "      <td>7.00000</td>\n",
       "    </tr>\n",
       "    <tr>\n",
       "      <th>50%</th>\n",
       "      <td>4046.00000</td>\n",
       "      <td>12.00000</td>\n",
       "    </tr>\n",
       "    <tr>\n",
       "      <th>75%</th>\n",
       "      <td>7994.00000</td>\n",
       "      <td>32.00000</td>\n",
       "    </tr>\n",
       "    <tr>\n",
       "      <th>max</th>\n",
       "      <td>17632.00000</td>\n",
       "      <td>99693.00000</td>\n",
       "    </tr>\n",
       "  </tbody>\n",
       "</table>\n",
       "</div>"
      ],
      "text/plain": [
       "               rank         count\n",
       "count 2020863.00000 2020863.00000\n",
       "mean     5258.44697     177.38991\n",
       "std      4220.12931    1502.47071\n",
       "min         1.00000       5.00000\n",
       "25%      1865.00000       7.00000\n",
       "50%      4046.00000      12.00000\n",
       "75%      7994.00000      32.00000\n",
       "max     17632.00000   99693.00000"
      ]
     },
     "execution_count": 13,
     "metadata": {},
     "output_type": "execute_result"
    }
   ],
   "source": [
    "names.describe()"
   ]
  },
  {
   "cell_type": "markdown",
   "id": "c48fc7e1-5a07-45cc-bf27-d6f1400fdf34",
   "metadata": {},
   "source": [
    "### Split up Data by Gender"
   ]
  },
  {
   "cell_type": "code",
   "execution_count": 14,
   "id": "26f6f2a5-a1a0-4f63-b959-723fdc638a59",
   "metadata": {},
   "outputs": [],
   "source": [
    "\n",
    "male_names = names[names[\"sex\"]==\"M\"]\n",
    "female_names = names[names[\"sex\"]==\"F\"]"
   ]
  },
  {
   "cell_type": "code",
   "execution_count": 15,
   "id": "69c0b21d-0d98-4eb3-bea4-1ee758bc963e",
   "metadata": {},
   "outputs": [],
   "source": [
    "male_names.to_csv('./Data/male_names.csv')\n",
    "female_names.to_csv('./Data/female_names.csv')"
   ]
  },
  {
   "cell_type": "markdown",
   "id": "615f5dab-b6a6-4923-a87e-e773851721f5",
   "metadata": {},
   "source": [
    "### As noted with the full data above--lots of little ones pushing numbers down"
   ]
  },
  {
   "cell_type": "code",
   "execution_count": 16,
   "id": "be146783-db96-47e8-aff4-6242c2b5531e",
   "metadata": {},
   "outputs": [
    {
     "data": {
      "text/html": [
       "<div>\n",
       "<style scoped>\n",
       "    .dataframe tbody tr th:only-of-type {\n",
       "        vertical-align: middle;\n",
       "    }\n",
       "\n",
       "    .dataframe tbody tr th {\n",
       "        vertical-align: top;\n",
       "    }\n",
       "\n",
       "    .dataframe thead th {\n",
       "        text-align: right;\n",
       "    }\n",
       "</style>\n",
       "<table border=\"1\" class=\"dataframe\">\n",
       "  <thead>\n",
       "    <tr style=\"text-align: right;\">\n",
       "      <th></th>\n",
       "      <th>rank</th>\n",
       "      <th>count</th>\n",
       "    </tr>\n",
       "  </thead>\n",
       "  <tbody>\n",
       "    <tr>\n",
       "      <th>count</th>\n",
       "      <td>828748.00000</td>\n",
       "      <td>828748.00000</td>\n",
       "    </tr>\n",
       "    <tr>\n",
       "      <th>mean</th>\n",
       "      <td>4169.36497</td>\n",
       "      <td>218.52507</td>\n",
       "    </tr>\n",
       "    <tr>\n",
       "      <th>std</th>\n",
       "      <td>3300.27558</td>\n",
       "      <td>1889.48120</td>\n",
       "    </tr>\n",
       "    <tr>\n",
       "      <th>min</th>\n",
       "      <td>1.00000</td>\n",
       "      <td>5.00000</td>\n",
       "    </tr>\n",
       "    <tr>\n",
       "      <th>25%</th>\n",
       "      <td>1514.00000</td>\n",
       "      <td>7.00000</td>\n",
       "    </tr>\n",
       "    <tr>\n",
       "      <th>50%</th>\n",
       "      <td>3307.00000</td>\n",
       "      <td>12.00000</td>\n",
       "    </tr>\n",
       "    <tr>\n",
       "      <th>75%</th>\n",
       "      <td>6233.00000</td>\n",
       "      <td>33.00000</td>\n",
       "    </tr>\n",
       "    <tr>\n",
       "      <th>max</th>\n",
       "      <td>12543.00000</td>\n",
       "      <td>94764.00000</td>\n",
       "    </tr>\n",
       "  </tbody>\n",
       "</table>\n",
       "</div>"
      ],
      "text/plain": [
       "              rank        count\n",
       "count 828748.00000 828748.00000\n",
       "mean    4169.36497    218.52507\n",
       "std     3300.27558   1889.48120\n",
       "min        1.00000      5.00000\n",
       "25%     1514.00000      7.00000\n",
       "50%     3307.00000     12.00000\n",
       "75%     6233.00000     33.00000\n",
       "max    12543.00000  94764.00000"
      ]
     },
     "execution_count": 16,
     "metadata": {},
     "output_type": "execute_result"
    }
   ],
   "source": [
    "male_names.describe()"
   ]
  },
  {
   "cell_type": "code",
   "execution_count": 17,
   "id": "b199550d-230a-4cf1-a4fb-19863a1d0d84",
   "metadata": {},
   "outputs": [
    {
     "data": {
      "text/html": [
       "<div>\n",
       "<style scoped>\n",
       "    .dataframe tbody tr th:only-of-type {\n",
       "        vertical-align: middle;\n",
       "    }\n",
       "\n",
       "    .dataframe tbody tr th {\n",
       "        vertical-align: top;\n",
       "    }\n",
       "\n",
       "    .dataframe thead th {\n",
       "        text-align: right;\n",
       "    }\n",
       "</style>\n",
       "<table border=\"1\" class=\"dataframe\">\n",
       "  <thead>\n",
       "    <tr style=\"text-align: right;\">\n",
       "      <th></th>\n",
       "      <th>rank</th>\n",
       "      <th>count</th>\n",
       "    </tr>\n",
       "  </thead>\n",
       "  <tbody>\n",
       "    <tr>\n",
       "      <th>count</th>\n",
       "      <td>1192115.00000</td>\n",
       "      <td>1192115.00000</td>\n",
       "    </tr>\n",
       "    <tr>\n",
       "      <th>mean</th>\n",
       "      <td>6015.56732</td>\n",
       "      <td>148.79310</td>\n",
       "    </tr>\n",
       "    <tr>\n",
       "      <th>std</th>\n",
       "      <td>4606.60524</td>\n",
       "      <td>1158.80721</td>\n",
       "    </tr>\n",
       "    <tr>\n",
       "      <th>min</th>\n",
       "      <td>1.00000</td>\n",
       "      <td>5.00000</td>\n",
       "    </tr>\n",
       "    <tr>\n",
       "      <th>25%</th>\n",
       "      <td>2193.00000</td>\n",
       "      <td>7.00000</td>\n",
       "    </tr>\n",
       "    <tr>\n",
       "      <th>50%</th>\n",
       "      <td>4808.00000</td>\n",
       "      <td>12.00000</td>\n",
       "    </tr>\n",
       "    <tr>\n",
       "      <th>75%</th>\n",
       "      <td>9232.00000</td>\n",
       "      <td>31.00000</td>\n",
       "    </tr>\n",
       "    <tr>\n",
       "      <th>max</th>\n",
       "      <td>17632.00000</td>\n",
       "      <td>99693.00000</td>\n",
       "    </tr>\n",
       "  </tbody>\n",
       "</table>\n",
       "</div>"
      ],
      "text/plain": [
       "               rank         count\n",
       "count 1192115.00000 1192115.00000\n",
       "mean     6015.56732     148.79310\n",
       "std      4606.60524    1158.80721\n",
       "min         1.00000       5.00000\n",
       "25%      2193.00000       7.00000\n",
       "50%      4808.00000      12.00000\n",
       "75%      9232.00000      31.00000\n",
       "max     17632.00000   99693.00000"
      ]
     },
     "execution_count": 17,
     "metadata": {},
     "output_type": "execute_result"
    }
   ],
   "source": [
    "female_names.describe()"
   ]
  },
  {
   "cell_type": "markdown",
   "id": "ab03600f-6e1e-444a-9c60-c2f02784fa92",
   "metadata": {},
   "source": [
    "### Split up Data by Gender with names over 99 mentions in a year"
   ]
  },
  {
   "cell_type": "code",
   "execution_count": 18,
   "id": "fabe961a-e003-49ee-864f-de01f269db24",
   "metadata": {},
   "outputs": [],
   "source": [
    "names_100 = names[names[\"count\"]>99]"
   ]
  },
  {
   "cell_type": "code",
   "execution_count": 19,
   "id": "17d4df57-6627-444d-ab5d-507fe189701c",
   "metadata": {},
   "outputs": [],
   "source": [
    "male_names_100 = names_100[names_100[\"sex\"]==\"M\"]\n",
    "female_names_100 = names_100[names_100[\"sex\"]==\"F\"]"
   ]
  },
  {
   "cell_type": "code",
   "execution_count": 20,
   "id": "7ecb0c71-043e-410c-a1f4-e3873b554bac",
   "metadata": {},
   "outputs": [],
   "source": [
    "male_names_100.to_csv('./Data/male_names_100.csv')\n",
    "female_names_100.to_csv('./Data/female_names_100.csv')"
   ]
  },
  {
   "cell_type": "code",
   "execution_count": 21,
   "id": "536390af-6a52-4177-b96e-d52999cef2ef",
   "metadata": {},
   "outputs": [
    {
     "data": {
      "text/html": [
       "<div>\n",
       "<style scoped>\n",
       "    .dataframe tbody tr th:only-of-type {\n",
       "        vertical-align: middle;\n",
       "    }\n",
       "\n",
       "    .dataframe tbody tr th {\n",
       "        vertical-align: top;\n",
       "    }\n",
       "\n",
       "    .dataframe thead th {\n",
       "        text-align: right;\n",
       "    }\n",
       "</style>\n",
       "<table border=\"1\" class=\"dataframe\">\n",
       "  <thead>\n",
       "    <tr style=\"text-align: right;\">\n",
       "      <th></th>\n",
       "      <th>rank</th>\n",
       "      <th>count</th>\n",
       "    </tr>\n",
       "  </thead>\n",
       "  <tbody>\n",
       "    <tr>\n",
       "      <th>count</th>\n",
       "      <td>104080.00000</td>\n",
       "      <td>104080.00000</td>\n",
       "    </tr>\n",
       "    <tr>\n",
       "      <th>mean</th>\n",
       "      <td>498.52584</td>\n",
       "      <td>1616.74001</td>\n",
       "    </tr>\n",
       "    <tr>\n",
       "      <th>std</th>\n",
       "      <td>375.70977</td>\n",
       "      <td>5117.58720</td>\n",
       "    </tr>\n",
       "    <tr>\n",
       "      <th>min</th>\n",
       "      <td>1.00000</td>\n",
       "      <td>100.00000</td>\n",
       "    </tr>\n",
       "    <tr>\n",
       "      <th>25%</th>\n",
       "      <td>192.75000</td>\n",
       "      <td>161.00000</td>\n",
       "    </tr>\n",
       "    <tr>\n",
       "      <th>50%</th>\n",
       "      <td>430.00000</td>\n",
       "      <td>323.00000</td>\n",
       "    </tr>\n",
       "    <tr>\n",
       "      <th>75%</th>\n",
       "      <td>704.00000</td>\n",
       "      <td>949.00000</td>\n",
       "    </tr>\n",
       "    <tr>\n",
       "      <th>max</th>\n",
       "      <td>1630.00000</td>\n",
       "      <td>94764.00000</td>\n",
       "    </tr>\n",
       "  </tbody>\n",
       "</table>\n",
       "</div>"
      ],
      "text/plain": [
       "              rank        count\n",
       "count 104080.00000 104080.00000\n",
       "mean     498.52584   1616.74001\n",
       "std      375.70977   5117.58720\n",
       "min        1.00000    100.00000\n",
       "25%      192.75000    161.00000\n",
       "50%      430.00000    323.00000\n",
       "75%      704.00000    949.00000\n",
       "max     1630.00000  94764.00000"
      ]
     },
     "execution_count": 21,
     "metadata": {},
     "output_type": "execute_result"
    }
   ],
   "source": [
    "male_names_100.describe()"
   ]
  },
  {
   "cell_type": "code",
   "execution_count": 22,
   "id": "266d981a-3b06-4d86-952b-2517f758e3c8",
   "metadata": {},
   "outputs": [
    {
     "data": {
      "text/html": [
       "<div>\n",
       "<style scoped>\n",
       "    .dataframe tbody tr th:only-of-type {\n",
       "        vertical-align: middle;\n",
       "    }\n",
       "\n",
       "    .dataframe tbody tr th {\n",
       "        vertical-align: top;\n",
       "    }\n",
       "\n",
       "    .dataframe thead th {\n",
       "        text-align: right;\n",
       "    }\n",
       "</style>\n",
       "<table border=\"1\" class=\"dataframe\">\n",
       "  <thead>\n",
       "    <tr style=\"text-align: right;\">\n",
       "      <th></th>\n",
       "      <th>rank</th>\n",
       "      <th>count</th>\n",
       "    </tr>\n",
       "  </thead>\n",
       "  <tbody>\n",
       "    <tr>\n",
       "      <th>count</th>\n",
       "      <td>138179.00000</td>\n",
       "      <td>138179.00000</td>\n",
       "    </tr>\n",
       "    <tr>\n",
       "      <th>mean</th>\n",
       "      <td>650.13562</td>\n",
       "      <td>1151.12533</td>\n",
       "    </tr>\n",
       "    <tr>\n",
       "      <th>std</th>\n",
       "      <td>483.71618</td>\n",
       "      <td>3232.06612</td>\n",
       "    </tr>\n",
       "    <tr>\n",
       "      <th>min</th>\n",
       "      <td>1.00000</td>\n",
       "      <td>100.00000</td>\n",
       "    </tr>\n",
       "    <tr>\n",
       "      <th>25%</th>\n",
       "      <td>250.00000</td>\n",
       "      <td>155.00000</td>\n",
       "    </tr>\n",
       "    <tr>\n",
       "      <th>50%</th>\n",
       "      <td>554.00000</td>\n",
       "      <td>288.00000</td>\n",
       "    </tr>\n",
       "    <tr>\n",
       "      <th>75%</th>\n",
       "      <td>957.00000</td>\n",
       "      <td>799.00000</td>\n",
       "    </tr>\n",
       "    <tr>\n",
       "      <th>max</th>\n",
       "      <td>2053.00000</td>\n",
       "      <td>99693.00000</td>\n",
       "    </tr>\n",
       "  </tbody>\n",
       "</table>\n",
       "</div>"
      ],
      "text/plain": [
       "              rank        count\n",
       "count 138179.00000 138179.00000\n",
       "mean     650.13562   1151.12533\n",
       "std      483.71618   3232.06612\n",
       "min        1.00000    100.00000\n",
       "25%      250.00000    155.00000\n",
       "50%      554.00000    288.00000\n",
       "75%      957.00000    799.00000\n",
       "max     2053.00000  99693.00000"
      ]
     },
     "execution_count": 22,
     "metadata": {},
     "output_type": "execute_result"
    }
   ],
   "source": [
    "female_names_100.describe()"
   ]
  },
  {
   "cell_type": "markdown",
   "id": "367631e6-05fe-4323-a30a-6bee3e3ca767",
   "metadata": {},
   "source": [
    "### Split up Data further--at least 100 mentions from 1920 to 2020 (drop 1880-1919 years)"
   ]
  },
  {
   "cell_type": "code",
   "execution_count": 23,
   "id": "a7dcc881-d64f-40f4-a27e-6fc4e33c3dad",
   "metadata": {},
   "outputs": [],
   "source": [
    "males100_1920 = male_names_100[\"1920\":]"
   ]
  },
  {
   "cell_type": "code",
   "execution_count": 24,
   "id": "18eb59ed-8bab-4e70-809c-3da9fa62ab11",
   "metadata": {},
   "outputs": [],
   "source": [
    "females100_1920 = female_names_100[\"1920\":]"
   ]
  },
  {
   "cell_type": "code",
   "execution_count": 25,
   "id": "00b7a1fa-e951-4f2d-92b5-eafbf0afb7ad",
   "metadata": {},
   "outputs": [],
   "source": [
    "males100_1920.to_csv('./Data/males100_100.csv')\n",
    "females100_1920.to_csv('./Data/females100_100.csv')"
   ]
  },
  {
   "cell_type": "code",
   "execution_count": 26,
   "id": "16652151-4635-4c11-a3be-8920b4fd4390",
   "metadata": {},
   "outputs": [
    {
     "data": {
      "text/html": [
       "<div>\n",
       "<style scoped>\n",
       "    .dataframe tbody tr th:only-of-type {\n",
       "        vertical-align: middle;\n",
       "    }\n",
       "\n",
       "    .dataframe tbody tr th {\n",
       "        vertical-align: top;\n",
       "    }\n",
       "\n",
       "    .dataframe thead th {\n",
       "        text-align: right;\n",
       "    }\n",
       "</style>\n",
       "<table border=\"1\" class=\"dataframe\">\n",
       "  <thead>\n",
       "    <tr style=\"text-align: right;\">\n",
       "      <th></th>\n",
       "      <th>rank</th>\n",
       "      <th>count</th>\n",
       "    </tr>\n",
       "  </thead>\n",
       "  <tbody>\n",
       "    <tr>\n",
       "      <th>count</th>\n",
       "      <td>94573.00000</td>\n",
       "      <td>94573.00000</td>\n",
       "    </tr>\n",
       "    <tr>\n",
       "      <th>mean</th>\n",
       "      <td>531.57870</td>\n",
       "      <td>1683.20861</td>\n",
       "    </tr>\n",
       "    <tr>\n",
       "      <th>std</th>\n",
       "      <td>375.69260</td>\n",
       "      <td>5290.88984</td>\n",
       "    </tr>\n",
       "    <tr>\n",
       "      <th>min</th>\n",
       "      <td>1.00000</td>\n",
       "      <td>100.00000</td>\n",
       "    </tr>\n",
       "    <tr>\n",
       "      <th>25%</th>\n",
       "      <td>234.00000</td>\n",
       "      <td>162.00000</td>\n",
       "    </tr>\n",
       "    <tr>\n",
       "      <th>50%</th>\n",
       "      <td>468.00000</td>\n",
       "      <td>329.00000</td>\n",
       "    </tr>\n",
       "    <tr>\n",
       "      <th>75%</th>\n",
       "      <td>739.00000</td>\n",
       "      <td>994.00000</td>\n",
       "    </tr>\n",
       "    <tr>\n",
       "      <th>max</th>\n",
       "      <td>1630.00000</td>\n",
       "      <td>94764.00000</td>\n",
       "    </tr>\n",
       "  </tbody>\n",
       "</table>\n",
       "</div>"
      ],
      "text/plain": [
       "             rank       count\n",
       "count 94573.00000 94573.00000\n",
       "mean    531.57870  1683.20861\n",
       "std     375.69260  5290.88984\n",
       "min       1.00000   100.00000\n",
       "25%     234.00000   162.00000\n",
       "50%     468.00000   329.00000\n",
       "75%     739.00000   994.00000\n",
       "max    1630.00000 94764.00000"
      ]
     },
     "execution_count": 26,
     "metadata": {},
     "output_type": "execute_result"
    }
   ],
   "source": [
    "males100_1920.describe()"
   ]
  },
  {
   "cell_type": "code",
   "execution_count": 27,
   "id": "e7e721f1-86a5-42f5-8acd-def0a3294b63",
   "metadata": {},
   "outputs": [
    {
     "data": {
      "text/html": [
       "<div>\n",
       "<style scoped>\n",
       "    .dataframe tbody tr th:only-of-type {\n",
       "        vertical-align: middle;\n",
       "    }\n",
       "\n",
       "    .dataframe tbody tr th {\n",
       "        vertical-align: top;\n",
       "    }\n",
       "\n",
       "    .dataframe thead th {\n",
       "        text-align: right;\n",
       "    }\n",
       "</style>\n",
       "<table border=\"1\" class=\"dataframe\">\n",
       "  <thead>\n",
       "    <tr style=\"text-align: right;\">\n",
       "      <th></th>\n",
       "      <th>rank</th>\n",
       "      <th>count</th>\n",
       "    </tr>\n",
       "  </thead>\n",
       "  <tbody>\n",
       "    <tr>\n",
       "      <th>count</th>\n",
       "      <td>124388.00000</td>\n",
       "      <td>124388.00000</td>\n",
       "    </tr>\n",
       "    <tr>\n",
       "      <th>mean</th>\n",
       "      <td>698.96184</td>\n",
       "      <td>1172.77769</td>\n",
       "    </tr>\n",
       "    <tr>\n",
       "      <th>std</th>\n",
       "      <td>482.90444</td>\n",
       "      <td>3315.64249</td>\n",
       "    </tr>\n",
       "    <tr>\n",
       "      <th>min</th>\n",
       "      <td>1.00000</td>\n",
       "      <td>100.00000</td>\n",
       "    </tr>\n",
       "    <tr>\n",
       "      <th>25%</th>\n",
       "      <td>308.00000</td>\n",
       "      <td>154.00000</td>\n",
       "    </tr>\n",
       "    <tr>\n",
       "      <th>50%</th>\n",
       "      <td>615.50000</td>\n",
       "      <td>285.00000</td>\n",
       "    </tr>\n",
       "    <tr>\n",
       "      <th>75%</th>\n",
       "      <td>1009.00000</td>\n",
       "      <td>788.00000</td>\n",
       "    </tr>\n",
       "    <tr>\n",
       "      <th>max</th>\n",
       "      <td>2053.00000</td>\n",
       "      <td>99693.00000</td>\n",
       "    </tr>\n",
       "  </tbody>\n",
       "</table>\n",
       "</div>"
      ],
      "text/plain": [
       "              rank        count\n",
       "count 124388.00000 124388.00000\n",
       "mean     698.96184   1172.77769\n",
       "std      482.90444   3315.64249\n",
       "min        1.00000    100.00000\n",
       "25%      308.00000    154.00000\n",
       "50%      615.50000    285.00000\n",
       "75%     1009.00000    788.00000\n",
       "max     2053.00000  99693.00000"
      ]
     },
     "execution_count": 27,
     "metadata": {},
     "output_type": "execute_result"
    }
   ],
   "source": [
    "females100_1920.describe()"
   ]
  },
  {
   "cell_type": "markdown",
   "id": "7a3788e8-99d6-4bcc-ac55-d6cafb69b582",
   "metadata": {},
   "source": [
    "### Data for all mentions (of at least 5) from 1921 to 2020"
   ]
  },
  {
   "cell_type": "code",
   "execution_count": 29,
   "id": "42ee5fd2-00c7-473c-86c6-1f82d86b009d",
   "metadata": {},
   "outputs": [],
   "source": [
    "males_1920 = male_names[\"1920\":]\n",
    "females_1920 = female_names[\"1920\":]"
   ]
  },
  {
   "cell_type": "code",
   "execution_count": 30,
   "id": "fc6a775d-2283-4f63-9ab1-5c7cb2666ac4",
   "metadata": {},
   "outputs": [],
   "source": [
    "males_1920.to_csv('./Data/males_1920.csv')\n",
    "females_1920.to_csv('./Data/females_1920.csv')"
   ]
  },
  {
   "cell_type": "code",
   "execution_count": 31,
   "id": "c7d37281-e35d-412c-8f60-a6398455b933",
   "metadata": {},
   "outputs": [
    {
     "data": {
      "text/html": [
       "<div>\n",
       "<style scoped>\n",
       "    .dataframe tbody tr th:only-of-type {\n",
       "        vertical-align: middle;\n",
       "    }\n",
       "\n",
       "    .dataframe tbody tr th {\n",
       "        vertical-align: top;\n",
       "    }\n",
       "\n",
       "    .dataframe thead th {\n",
       "        text-align: right;\n",
       "    }\n",
       "</style>\n",
       "<table border=\"1\" class=\"dataframe\">\n",
       "  <thead>\n",
       "    <tr style=\"text-align: right;\">\n",
       "      <th></th>\n",
       "      <th>rank</th>\n",
       "      <th>count</th>\n",
       "    </tr>\n",
       "  </thead>\n",
       "  <tbody>\n",
       "    <tr>\n",
       "      <th>count</th>\n",
       "      <td>754390.00000</td>\n",
       "      <td>754390.00000</td>\n",
       "    </tr>\n",
       "    <tr>\n",
       "      <th>mean</th>\n",
       "      <td>4456.47468</td>\n",
       "      <td>226.45186</td>\n",
       "    </tr>\n",
       "    <tr>\n",
       "      <th>std</th>\n",
       "      <td>3306.00821</td>\n",
       "      <td>1952.89433</td>\n",
       "    </tr>\n",
       "    <tr>\n",
       "      <th>min</th>\n",
       "      <td>1.00000</td>\n",
       "      <td>5.00000</td>\n",
       "    </tr>\n",
       "    <tr>\n",
       "      <th>25%</th>\n",
       "      <td>1843.00000</td>\n",
       "      <td>7.00000</td>\n",
       "    </tr>\n",
       "    <tr>\n",
       "      <th>50%</th>\n",
       "      <td>3594.00000</td>\n",
       "      <td>12.00000</td>\n",
       "    </tr>\n",
       "    <tr>\n",
       "      <th>75%</th>\n",
       "      <td>6528.00000</td>\n",
       "      <td>33.00000</td>\n",
       "    </tr>\n",
       "    <tr>\n",
       "      <th>max</th>\n",
       "      <td>12543.00000</td>\n",
       "      <td>94764.00000</td>\n",
       "    </tr>\n",
       "  </tbody>\n",
       "</table>\n",
       "</div>"
      ],
      "text/plain": [
       "              rank        count\n",
       "count 754390.00000 754390.00000\n",
       "mean    4456.47468    226.45186\n",
       "std     3306.00821   1952.89433\n",
       "min        1.00000      5.00000\n",
       "25%     1843.00000      7.00000\n",
       "50%     3594.00000     12.00000\n",
       "75%     6528.00000     33.00000\n",
       "max    12543.00000  94764.00000"
      ]
     },
     "execution_count": 31,
     "metadata": {},
     "output_type": "execute_result"
    }
   ],
   "source": [
    "males_1920.describe()"
   ]
  },
  {
   "cell_type": "code",
   "execution_count": 32,
   "id": "a05db491-ad5f-4ffa-92d7-fe6a242ec52e",
   "metadata": {},
   "outputs": [
    {
     "data": {
      "text/html": [
       "<div>\n",
       "<style scoped>\n",
       "    .dataframe tbody tr th:only-of-type {\n",
       "        vertical-align: middle;\n",
       "    }\n",
       "\n",
       "    .dataframe tbody tr th {\n",
       "        vertical-align: top;\n",
       "    }\n",
       "\n",
       "    .dataframe thead th {\n",
       "        text-align: right;\n",
       "    }\n",
       "</style>\n",
       "<table border=\"1\" class=\"dataframe\">\n",
       "  <thead>\n",
       "    <tr style=\"text-align: right;\">\n",
       "      <th></th>\n",
       "      <th>rank</th>\n",
       "      <th>count</th>\n",
       "    </tr>\n",
       "  </thead>\n",
       "  <tbody>\n",
       "    <tr>\n",
       "      <th>count</th>\n",
       "      <td>1097020.00000</td>\n",
       "      <td>1097020.00000</td>\n",
       "    </tr>\n",
       "    <tr>\n",
       "      <th>mean</th>\n",
       "      <td>6408.46946</td>\n",
       "      <td>148.36590</td>\n",
       "    </tr>\n",
       "    <tr>\n",
       "      <th>std</th>\n",
       "      <td>4582.91740</td>\n",
       "      <td>1175.16308</td>\n",
       "    </tr>\n",
       "    <tr>\n",
       "      <th>min</th>\n",
       "      <td>1.00000</td>\n",
       "      <td>5.00000</td>\n",
       "    </tr>\n",
       "    <tr>\n",
       "      <th>25%</th>\n",
       "      <td>2674.00000</td>\n",
       "      <td>7.00000</td>\n",
       "    </tr>\n",
       "    <tr>\n",
       "      <th>50%</th>\n",
       "      <td>5286.00000</td>\n",
       "      <td>11.00000</td>\n",
       "    </tr>\n",
       "    <tr>\n",
       "      <th>75%</th>\n",
       "      <td>9652.00000</td>\n",
       "      <td>30.00000</td>\n",
       "    </tr>\n",
       "    <tr>\n",
       "      <th>max</th>\n",
       "      <td>17632.00000</td>\n",
       "      <td>99693.00000</td>\n",
       "    </tr>\n",
       "  </tbody>\n",
       "</table>\n",
       "</div>"
      ],
      "text/plain": [
       "               rank         count\n",
       "count 1097020.00000 1097020.00000\n",
       "mean     6408.46946     148.36590\n",
       "std      4582.91740    1175.16308\n",
       "min         1.00000       5.00000\n",
       "25%      2674.00000       7.00000\n",
       "50%      5286.00000      11.00000\n",
       "75%      9652.00000      30.00000\n",
       "max     17632.00000   99693.00000"
      ]
     },
     "execution_count": 32,
     "metadata": {},
     "output_type": "execute_result"
    }
   ],
   "source": [
    "females_1920.describe()"
   ]
  },
  {
   "cell_type": "markdown",
   "id": "fe84ae08-b9ab-466f-b651-165e081f0f31",
   "metadata": {},
   "source": [
    "### Data for mentions of at least 100 times for at least 10 years (non-consecutively)"
   ]
  },
  {
   "cell_type": "code",
   "execution_count": 33,
   "id": "45e7f703-76b6-4530-bd7e-74b04c07d9f6",
   "metadata": {},
   "outputs": [],
   "source": [
    "names_list_big_males = male_names_100[\"name\"].unique().tolist()\n",
    "names_list_big_females = female_names_100[\"name\"].unique().tolist()"
   ]
  },
  {
   "cell_type": "code",
   "execution_count": 34,
   "id": "e0332e45-4705-497a-b380-e92da7db37fe",
   "metadata": {},
   "outputs": [],
   "source": [
    "grouping = {}\n",
    "group_list =[]\n",
    "def name_ten_years(names,df):\n",
    "    for name in names:\n",
    "        \n",
    "        Z=df[df[\"name\"]==name][[\"count\"]]\n",
    "        \n",
    "        grouping.update({name:Z.shape[0]})\n",
    "    \n",
    "        \n",
    "    for k,v in sorted(grouping.items(), key=lambda x:x[1],reverse=True):\n",
    "        if v <=10:\n",
    "            group_list.append(k)\n",
    "    \n",
    "        df_dropped = df[~df[\"name\"].isin(group_list)]\n",
    "    \n",
    "    return df_dropped"
   ]
  },
  {
   "cell_type": "code",
   "execution_count": 35,
   "id": "14c80db6-65e3-4732-b851-a4ac7c7c55a6",
   "metadata": {},
   "outputs": [],
   "source": [
    "new_data_males = name_ten_years(names_list_big_males, male_names_100)"
   ]
  },
  {
   "cell_type": "code",
   "execution_count": 36,
   "id": "4926184b-3769-43d9-88a5-45fb8f500fd2",
   "metadata": {},
   "outputs": [],
   "source": [
    "new_data_females = name_ten_years(names_list_big_females, female_names_100)"
   ]
  },
  {
   "cell_type": "code",
   "execution_count": 37,
   "id": "d55ac509-c897-4c7a-a377-502e72afaa7d",
   "metadata": {},
   "outputs": [],
   "source": [
    "new_data_males.to_csv('./Data/males_100count_10years.csv')\n",
    "new_data_females.to_csv('./Data/females_100count_10years.csv')"
   ]
  },
  {
   "cell_type": "code",
   "execution_count": 38,
   "id": "fed0e108-d79a-4ee7-bcec-2e191387b88d",
   "metadata": {},
   "outputs": [
    {
     "data": {
      "text/html": [
       "<div>\n",
       "<style scoped>\n",
       "    .dataframe tbody tr th:only-of-type {\n",
       "        vertical-align: middle;\n",
       "    }\n",
       "\n",
       "    .dataframe tbody tr th {\n",
       "        vertical-align: top;\n",
       "    }\n",
       "\n",
       "    .dataframe thead th {\n",
       "        text-align: right;\n",
       "    }\n",
       "</style>\n",
       "<table border=\"1\" class=\"dataframe\">\n",
       "  <thead>\n",
       "    <tr style=\"text-align: right;\">\n",
       "      <th></th>\n",
       "      <th>rank</th>\n",
       "      <th>count</th>\n",
       "    </tr>\n",
       "  </thead>\n",
       "  <tbody>\n",
       "    <tr>\n",
       "      <th>count</th>\n",
       "      <td>99589.00000</td>\n",
       "      <td>99589.00000</td>\n",
       "    </tr>\n",
       "    <tr>\n",
       "      <th>mean</th>\n",
       "      <td>469.77231</td>\n",
       "      <td>1682.93825</td>\n",
       "    </tr>\n",
       "    <tr>\n",
       "      <th>std</th>\n",
       "      <td>351.34149</td>\n",
       "      <td>5221.93879</td>\n",
       "    </tr>\n",
       "    <tr>\n",
       "      <th>min</th>\n",
       "      <td>1.00000</td>\n",
       "      <td>100.00000</td>\n",
       "    </tr>\n",
       "    <tr>\n",
       "      <th>25%</th>\n",
       "      <td>183.00000</td>\n",
       "      <td>171.00000</td>\n",
       "    </tr>\n",
       "    <tr>\n",
       "      <th>50%</th>\n",
       "      <td>410.00000</td>\n",
       "      <td>346.00000</td>\n",
       "    </tr>\n",
       "    <tr>\n",
       "      <th>75%</th>\n",
       "      <td>664.00000</td>\n",
       "      <td>1016.00000</td>\n",
       "    </tr>\n",
       "    <tr>\n",
       "      <th>max</th>\n",
       "      <td>1630.00000</td>\n",
       "      <td>94764.00000</td>\n",
       "    </tr>\n",
       "  </tbody>\n",
       "</table>\n",
       "</div>"
      ],
      "text/plain": [
       "             rank       count\n",
       "count 99589.00000 99589.00000\n",
       "mean    469.77231  1682.93825\n",
       "std     351.34149  5221.93879\n",
       "min       1.00000   100.00000\n",
       "25%     183.00000   171.00000\n",
       "50%     410.00000   346.00000\n",
       "75%     664.00000  1016.00000\n",
       "max    1630.00000 94764.00000"
      ]
     },
     "execution_count": 38,
     "metadata": {},
     "output_type": "execute_result"
    }
   ],
   "source": [
    "new_data_males.describe()"
   ]
  },
  {
   "cell_type": "code",
   "execution_count": 39,
   "id": "85516cce-2c4b-438c-8078-3894ef8f8210",
   "metadata": {},
   "outputs": [
    {
     "data": {
      "text/html": [
       "<div>\n",
       "<style scoped>\n",
       "    .dataframe tbody tr th:only-of-type {\n",
       "        vertical-align: middle;\n",
       "    }\n",
       "\n",
       "    .dataframe tbody tr th {\n",
       "        vertical-align: top;\n",
       "    }\n",
       "\n",
       "    .dataframe thead th {\n",
       "        text-align: right;\n",
       "    }\n",
       "</style>\n",
       "<table border=\"1\" class=\"dataframe\">\n",
       "  <thead>\n",
       "    <tr style=\"text-align: right;\">\n",
       "      <th></th>\n",
       "      <th>rank</th>\n",
       "      <th>count</th>\n",
       "    </tr>\n",
       "  </thead>\n",
       "  <tbody>\n",
       "    <tr>\n",
       "      <th>count</th>\n",
       "      <td>125881.00000</td>\n",
       "      <td>125881.00000</td>\n",
       "    </tr>\n",
       "    <tr>\n",
       "      <th>mean</th>\n",
       "      <td>615.57345</td>\n",
       "      <td>1118.86041</td>\n",
       "    </tr>\n",
       "    <tr>\n",
       "      <th>std</th>\n",
       "      <td>454.63263</td>\n",
       "      <td>3083.23760</td>\n",
       "    </tr>\n",
       "    <tr>\n",
       "      <th>min</th>\n",
       "      <td>1.00000</td>\n",
       "      <td>100.00000</td>\n",
       "    </tr>\n",
       "    <tr>\n",
       "      <th>25%</th>\n",
       "      <td>243.00000</td>\n",
       "      <td>164.00000</td>\n",
       "    </tr>\n",
       "    <tr>\n",
       "      <th>50%</th>\n",
       "      <td>526.00000</td>\n",
       "      <td>306.00000</td>\n",
       "    </tr>\n",
       "    <tr>\n",
       "      <th>75%</th>\n",
       "      <td>898.00000</td>\n",
       "      <td>828.00000</td>\n",
       "    </tr>\n",
       "    <tr>\n",
       "      <th>max</th>\n",
       "      <td>2053.00000</td>\n",
       "      <td>99693.00000</td>\n",
       "    </tr>\n",
       "  </tbody>\n",
       "</table>\n",
       "</div>"
      ],
      "text/plain": [
       "              rank        count\n",
       "count 125881.00000 125881.00000\n",
       "mean     615.57345   1118.86041\n",
       "std      454.63263   3083.23760\n",
       "min        1.00000    100.00000\n",
       "25%      243.00000    164.00000\n",
       "50%      526.00000    306.00000\n",
       "75%      898.00000    828.00000\n",
       "max     2053.00000  99693.00000"
      ]
     },
     "execution_count": 39,
     "metadata": {},
     "output_type": "execute_result"
    }
   ],
   "source": [
    "new_data_females.describe()"
   ]
  },
  {
   "cell_type": "markdown",
   "id": "6f47e2e9-30ed-42a3-9974-9e21dd199f27",
   "metadata": {},
   "source": [
    "### Data for mentions of at least 100 times for at least 10 years (non consecutively) from 1920-2020"
   ]
  },
  {
   "cell_type": "code",
   "execution_count": 28,
   "id": "8075c604-6ffc-495c-8f95-25e48a6e2a12",
   "metadata": {},
   "outputs": [],
   "source": [
    "name_list_males=males100_1920[\"name\"].unique().tolist()\n",
    "name_list_females = females100_1920[\"name\"].unique().tolist()"
   ]
  },
  {
   "cell_type": "code",
   "execution_count": 29,
   "id": "dc9f9f6b-fe86-4637-ba3e-35d95bdc695e",
   "metadata": {},
   "outputs": [],
   "source": [
    "new_data_males_2 = name_ten_years(name_list_males, males100_1920)\n",
    "new_data_females_2 = name_ten_years(name_list_females, females100_1920)"
   ]
  },
  {
   "cell_type": "code",
   "execution_count": 30,
   "id": "b42baf3b-714b-492c-8e2f-e77c01e793ed",
   "metadata": {},
   "outputs": [],
   "source": [
    "new_data_males_2.to_csv('./Data/males_100count_10years_1920.csv')\n",
    "new_data_females_2.to_csv('./Data/females_100count_10years_1920.csv')"
   ]
  },
  {
   "cell_type": "code",
   "execution_count": 31,
   "id": "26bf8192-5a36-4418-a6c9-6cd2b9efac17",
   "metadata": {},
   "outputs": [
    {
     "data": {
      "text/plain": [
       "1873"
      ]
     },
     "execution_count": 31,
     "metadata": {},
     "output_type": "execute_result"
    }
   ],
   "source": [
    "new_data_males_2[\"name\"].nunique()"
   ]
  },
  {
   "cell_type": "code",
   "execution_count": 32,
   "id": "a55e2392-65a3-4cfa-9bde-dd14648bee37",
   "metadata": {},
   "outputs": [
    {
     "data": {
      "text/plain": [
       "2948"
      ]
     },
     "execution_count": 32,
     "metadata": {},
     "output_type": "execute_result"
    }
   ],
   "source": [
    "new_data_females_2[\"name\"].nunique()"
   ]
  },
  {
   "cell_type": "code",
   "execution_count": 41,
   "id": "decab10d-02f6-4321-8dbd-cabda79c1054",
   "metadata": {},
   "outputs": [],
   "source": [
    "males=pd.read_csv('./Data/males_100count_10years_1920.csv', parse_dates =['year'], index_col=\"year\")\n",
    "females=pd.read_csv('./Data/females_100count_10years_1920.csv', parse_dates =['year'], index_col=\"year\")"
   ]
  },
  {
   "cell_type": "code",
   "execution_count": 43,
   "id": "f85f8cd8-e58d-451a-b2de-cbf393041bf8",
   "metadata": {},
   "outputs": [
    {
     "data": {
      "text/html": [
       "<div>\n",
       "<style scoped>\n",
       "    .dataframe tbody tr th:only-of-type {\n",
       "        vertical-align: middle;\n",
       "    }\n",
       "\n",
       "    .dataframe tbody tr th {\n",
       "        vertical-align: top;\n",
       "    }\n",
       "\n",
       "    .dataframe thead th {\n",
       "        text-align: right;\n",
       "    }\n",
       "</style>\n",
       "<table border=\"1\" class=\"dataframe\">\n",
       "  <thead>\n",
       "    <tr style=\"text-align: right;\">\n",
       "      <th></th>\n",
       "      <th>rank</th>\n",
       "      <th>count</th>\n",
       "    </tr>\n",
       "  </thead>\n",
       "  <tbody>\n",
       "    <tr>\n",
       "      <th>count</th>\n",
       "      <td>85026.00000</td>\n",
       "      <td>85026.00000</td>\n",
       "    </tr>\n",
       "    <tr>\n",
       "      <th>mean</th>\n",
       "      <td>508.38977</td>\n",
       "      <td>1645.40242</td>\n",
       "    </tr>\n",
       "    <tr>\n",
       "      <th>std</th>\n",
       "      <td>350.14712</td>\n",
       "      <td>5353.09091</td>\n",
       "    </tr>\n",
       "    <tr>\n",
       "      <th>min</th>\n",
       "      <td>1.00000</td>\n",
       "      <td>100.00000</td>\n",
       "    </tr>\n",
       "    <tr>\n",
       "      <th>25%</th>\n",
       "      <td>234.00000</td>\n",
       "      <td>172.00000</td>\n",
       "    </tr>\n",
       "    <tr>\n",
       "      <th>50%</th>\n",
       "      <td>453.00000</td>\n",
       "      <td>346.00000</td>\n",
       "    </tr>\n",
       "    <tr>\n",
       "      <th>75%</th>\n",
       "      <td>705.00000</td>\n",
       "      <td>993.00000</td>\n",
       "    </tr>\n",
       "    <tr>\n",
       "      <th>max</th>\n",
       "      <td>1630.00000</td>\n",
       "      <td>94764.00000</td>\n",
       "    </tr>\n",
       "  </tbody>\n",
       "</table>\n",
       "</div>"
      ],
      "text/plain": [
       "             rank       count\n",
       "count 85026.00000 85026.00000\n",
       "mean    508.38977  1645.40242\n",
       "std     350.14712  5353.09091\n",
       "min       1.00000   100.00000\n",
       "25%     234.00000   172.00000\n",
       "50%     453.00000   346.00000\n",
       "75%     705.00000   993.00000\n",
       "max    1630.00000 94764.00000"
      ]
     },
     "execution_count": 43,
     "metadata": {},
     "output_type": "execute_result"
    }
   ],
   "source": [
    "males.describe()"
   ]
  },
  {
   "cell_type": "code",
   "execution_count": 44,
   "id": "f29c21b5-b75f-4e4e-8ffc-bcef4ded7772",
   "metadata": {},
   "outputs": [
    {
     "data": {
      "text/html": [
       "<div>\n",
       "<style scoped>\n",
       "    .dataframe tbody tr th:only-of-type {\n",
       "        vertical-align: middle;\n",
       "    }\n",
       "\n",
       "    .dataframe tbody tr th {\n",
       "        vertical-align: top;\n",
       "    }\n",
       "\n",
       "    .dataframe thead th {\n",
       "        text-align: right;\n",
       "    }\n",
       "</style>\n",
       "<table border=\"1\" class=\"dataframe\">\n",
       "  <thead>\n",
       "    <tr style=\"text-align: right;\">\n",
       "      <th></th>\n",
       "      <th>rank</th>\n",
       "      <th>count</th>\n",
       "    </tr>\n",
       "  </thead>\n",
       "  <tbody>\n",
       "    <tr>\n",
       "      <th>count</th>\n",
       "      <td>112086.00000</td>\n",
       "      <td>112086.00000</td>\n",
       "    </tr>\n",
       "    <tr>\n",
       "      <th>mean</th>\n",
       "      <td>663.40415</td>\n",
       "      <td>1141.38599</td>\n",
       "    </tr>\n",
       "    <tr>\n",
       "      <th>std</th>\n",
       "      <td>454.91304</td>\n",
       "      <td>3161.93135</td>\n",
       "    </tr>\n",
       "    <tr>\n",
       "      <th>min</th>\n",
       "      <td>1.00000</td>\n",
       "      <td>100.00000</td>\n",
       "    </tr>\n",
       "    <tr>\n",
       "      <th>25%</th>\n",
       "      <td>298.00000</td>\n",
       "      <td>165.00000</td>\n",
       "    </tr>\n",
       "    <tr>\n",
       "      <th>50%</th>\n",
       "      <td>586.00000</td>\n",
       "      <td>306.00000</td>\n",
       "    </tr>\n",
       "    <tr>\n",
       "      <th>75%</th>\n",
       "      <td>952.00000</td>\n",
       "      <td>825.00000</td>\n",
       "    </tr>\n",
       "    <tr>\n",
       "      <th>max</th>\n",
       "      <td>2053.00000</td>\n",
       "      <td>99693.00000</td>\n",
       "    </tr>\n",
       "  </tbody>\n",
       "</table>\n",
       "</div>"
      ],
      "text/plain": [
       "              rank        count\n",
       "count 112086.00000 112086.00000\n",
       "mean     663.40415   1141.38599\n",
       "std      454.91304   3161.93135\n",
       "min        1.00000    100.00000\n",
       "25%      298.00000    165.00000\n",
       "50%      586.00000    306.00000\n",
       "75%      952.00000    825.00000\n",
       "max     2053.00000  99693.00000"
      ]
     },
     "execution_count": 44,
     "metadata": {},
     "output_type": "execute_result"
    }
   ],
   "source": [
    "females.describe()"
   ]
  },
  {
   "cell_type": "code",
   "execution_count": 54,
   "id": "1b06bb4e-60be-48e7-8404-a80a69f13d63",
   "metadata": {},
   "outputs": [
    {
     "data": {
      "text/plain": [
       "name     21264\n",
       "sex      21264\n",
       "rank     21264\n",
       "count    21264\n",
       "dtype: int64"
      ]
     },
     "execution_count": 54,
     "metadata": {},
     "output_type": "execute_result"
    }
   ],
   "source": [
    "males[males[\"count\"]>=993].count()"
   ]
  },
  {
   "cell_type": "code",
   "execution_count": 57,
   "id": "b0513ef5-733e-4637-9e45-649f2e5903b8",
   "metadata": {},
   "outputs": [
    {
     "data": {
      "text/plain": [
       "name     28036\n",
       "sex      28036\n",
       "rank     28036\n",
       "count    28036\n",
       "dtype: int64"
      ]
     },
     "execution_count": 57,
     "metadata": {},
     "output_type": "execute_result"
    }
   ],
   "source": [
    "females[females['count']>=825].count()"
   ]
  },
  {
   "cell_type": "markdown",
   "id": "b4f1a805-cb2b-4d1c-94f2-9e972c1bbca6",
   "metadata": {},
   "source": [
    "### Split up by very popular names (75th percentile and over) for at least 100 counts for 10 years 1920-2020"
   ]
  },
  {
   "cell_type": "code",
   "execution_count": 58,
   "id": "6dcec4e1-f8dc-4ed6-9245-f00a9845078f",
   "metadata": {},
   "outputs": [],
   "source": [
    "popular_males = males[males[\"count\"]>=993]\n",
    "popular_females = females[females[\"count\"]>=825]"
   ]
  },
  {
   "cell_type": "code",
   "execution_count": 59,
   "id": "dcd8d438-ba0a-489c-a7a5-a2b2d9d42e9f",
   "metadata": {},
   "outputs": [],
   "source": [
    "popular_males.to_csv('./Data/popular_males.csv')\n",
    "popular_females.to_csv('./Data/popular_females.csv')"
   ]
  },
  {
   "cell_type": "code",
   "execution_count": 60,
   "id": "d4547bb4-cf85-4e56-9677-1382c701a883",
   "metadata": {},
   "outputs": [
    {
     "data": {
      "text/plain": [
       "649"
      ]
     },
     "execution_count": 60,
     "metadata": {},
     "output_type": "execute_result"
    }
   ],
   "source": [
    "popular_males[\"name\"].nunique()"
   ]
  },
  {
   "cell_type": "code",
   "execution_count": 61,
   "id": "d9b1c3fc-eb1c-44a5-a850-60e0aa63ff9f",
   "metadata": {},
   "outputs": [
    {
     "data": {
      "text/plain": [
       "1058"
      ]
     },
     "execution_count": 61,
     "metadata": {},
     "output_type": "execute_result"
    }
   ],
   "source": [
    "popular_females[\"name\"].nunique()"
   ]
  },
  {
   "cell_type": "code",
   "execution_count": 62,
   "id": "e1dd1ca1-9465-4a0b-b642-ee53a4aa0289",
   "metadata": {},
   "outputs": [
    {
     "data": {
      "text/html": [
       "<div>\n",
       "<style scoped>\n",
       "    .dataframe tbody tr th:only-of-type {\n",
       "        vertical-align: middle;\n",
       "    }\n",
       "\n",
       "    .dataframe tbody tr th {\n",
       "        vertical-align: top;\n",
       "    }\n",
       "\n",
       "    .dataframe thead th {\n",
       "        text-align: right;\n",
       "    }\n",
       "</style>\n",
       "<table border=\"1\" class=\"dataframe\">\n",
       "  <thead>\n",
       "    <tr style=\"text-align: right;\">\n",
       "      <th></th>\n",
       "      <th>rank</th>\n",
       "      <th>count</th>\n",
       "    </tr>\n",
       "  </thead>\n",
       "  <tbody>\n",
       "    <tr>\n",
       "      <th>count</th>\n",
       "      <td>21264.00000</td>\n",
       "      <td>21264.00000</td>\n",
       "    </tr>\n",
       "    <tr>\n",
       "      <th>mean</th>\n",
       "      <td>128.23326</td>\n",
       "      <td>5619.63972</td>\n",
       "    </tr>\n",
       "    <tr>\n",
       "      <th>std</th>\n",
       "      <td>78.96062</td>\n",
       "      <td>9663.26733</td>\n",
       "    </tr>\n",
       "    <tr>\n",
       "      <th>min</th>\n",
       "      <td>1.00000</td>\n",
       "      <td>993.00000</td>\n",
       "    </tr>\n",
       "    <tr>\n",
       "      <th>25%</th>\n",
       "      <td>64.00000</td>\n",
       "      <td>1488.00000</td>\n",
       "    </tr>\n",
       "    <tr>\n",
       "      <th>50%</th>\n",
       "      <td>122.00000</td>\n",
       "      <td>2436.00000</td>\n",
       "    </tr>\n",
       "    <tr>\n",
       "      <th>75%</th>\n",
       "      <td>185.00000</td>\n",
       "      <td>5070.50000</td>\n",
       "    </tr>\n",
       "    <tr>\n",
       "      <th>max</th>\n",
       "      <td>347.00000</td>\n",
       "      <td>94764.00000</td>\n",
       "    </tr>\n",
       "  </tbody>\n",
       "</table>\n",
       "</div>"
      ],
      "text/plain": [
       "             rank       count\n",
       "count 21264.00000 21264.00000\n",
       "mean    128.23326  5619.63972\n",
       "std      78.96062  9663.26733\n",
       "min       1.00000   993.00000\n",
       "25%      64.00000  1488.00000\n",
       "50%     122.00000  2436.00000\n",
       "75%     185.00000  5070.50000\n",
       "max     347.00000 94764.00000"
      ]
     },
     "execution_count": 62,
     "metadata": {},
     "output_type": "execute_result"
    }
   ],
   "source": [
    "popular_males.describe()"
   ]
  },
  {
   "cell_type": "code",
   "execution_count": 63,
   "id": "303da2cb-05da-4a05-b0eb-f2763a4e29d9",
   "metadata": {},
   "outputs": [
    {
     "data": {
      "text/html": [
       "<div>\n",
       "<style scoped>\n",
       "    .dataframe tbody tr th:only-of-type {\n",
       "        vertical-align: middle;\n",
       "    }\n",
       "\n",
       "    .dataframe tbody tr th {\n",
       "        vertical-align: top;\n",
       "    }\n",
       "\n",
       "    .dataframe thead th {\n",
       "        text-align: right;\n",
       "    }\n",
       "</style>\n",
       "<table border=\"1\" class=\"dataframe\">\n",
       "  <thead>\n",
       "    <tr style=\"text-align: right;\">\n",
       "      <th></th>\n",
       "      <th>rank</th>\n",
       "      <th>count</th>\n",
       "    </tr>\n",
       "  </thead>\n",
       "  <tbody>\n",
       "    <tr>\n",
       "      <th>count</th>\n",
       "      <td>28036.00000</td>\n",
       "      <td>28036.00000</td>\n",
       "    </tr>\n",
       "    <tr>\n",
       "      <th>mean</th>\n",
       "      <td>159.10269</td>\n",
       "      <td>3710.40876</td>\n",
       "    </tr>\n",
       "    <tr>\n",
       "      <th>std</th>\n",
       "      <td>94.12979</td>\n",
       "      <td>5574.32114</td>\n",
       "    </tr>\n",
       "    <tr>\n",
       "      <th>min</th>\n",
       "      <td>1.00000</td>\n",
       "      <td>825.00000</td>\n",
       "    </tr>\n",
       "    <tr>\n",
       "      <th>25%</th>\n",
       "      <td>81.00000</td>\n",
       "      <td>1181.00000</td>\n",
       "    </tr>\n",
       "    <tr>\n",
       "      <th>50%</th>\n",
       "      <td>154.00000</td>\n",
       "      <td>1930.00000</td>\n",
       "    </tr>\n",
       "    <tr>\n",
       "      <th>75%</th>\n",
       "      <td>229.00000</td>\n",
       "      <td>3862.00000</td>\n",
       "    </tr>\n",
       "    <tr>\n",
       "      <th>max</th>\n",
       "      <td>402.00000</td>\n",
       "      <td>99693.00000</td>\n",
       "    </tr>\n",
       "  </tbody>\n",
       "</table>\n",
       "</div>"
      ],
      "text/plain": [
       "             rank       count\n",
       "count 28036.00000 28036.00000\n",
       "mean    159.10269  3710.40876\n",
       "std      94.12979  5574.32114\n",
       "min       1.00000   825.00000\n",
       "25%      81.00000  1181.00000\n",
       "50%     154.00000  1930.00000\n",
       "75%     229.00000  3862.00000\n",
       "max     402.00000 99693.00000"
      ]
     },
     "execution_count": 63,
     "metadata": {},
     "output_type": "execute_result"
    }
   ],
   "source": [
    "popular_females.describe()"
   ]
  },
  {
   "cell_type": "code",
   "execution_count": null,
   "id": "ccfb0318-14cf-483c-a2f8-03d8ed80b560",
   "metadata": {},
   "outputs": [],
   "source": []
  }
 ],
 "metadata": {
  "kernelspec": {
   "display_name": "Python 3 (ipykernel)",
   "language": "python",
   "name": "python3"
  },
  "language_info": {
   "codemirror_mode": {
    "name": "ipython",
    "version": 3
   },
   "file_extension": ".py",
   "mimetype": "text/x-python",
   "name": "python",
   "nbconvert_exporter": "python",
   "pygments_lexer": "ipython3",
   "version": "3.8.8"
  }
 },
 "nbformat": 4,
 "nbformat_minor": 5
}
